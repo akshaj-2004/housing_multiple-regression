{
 "cells": [
  {
   "cell_type": "code",
   "execution_count": 1,
   "id": "0ae50b05",
   "metadata": {},
   "outputs": [],
   "source": [
    "import numpy as np\n",
    "from matplotlib import pyplot as plt\n",
    "import math\n",
    "import copy\n",
    "np.set_printoptions(precision=2)"
   ]
  },
  {
   "cell_type": "code",
   "execution_count": 2,
   "id": "85cc77e2",
   "metadata": {},
   "outputs": [],
   "source": [
    "import csv\n",
    "\n",
    "# Replace 'your_file.csv' with your actual file name\n",
    "file_path = r'C:\\Users\\aksha\\OneDrive\\Desktop\\housing.csv'\n",
    "\n",
    "data = []  # Initialize an empty list to store the data\n",
    "\n",
    "with open(file_path, 'r') as file:\n",
    "    csv_reader = csv.reader(file)\n",
    "    header = next(csv_reader)  # Read the header row\n",
    "    \n",
    "    for row in csv_reader:\n",
    "        data.append(row)  # Append each row to the data list"
   ]
  },
  {
   "cell_type": "code",
   "execution_count": 17,
   "id": "a3c93d59",
   "metadata": {},
   "outputs": [
    {
     "name": "stdout",
     "output_type": "stream",
     "text": [
      "['8960' '4' '4' '4']\n",
      "(545,)\n"
     ]
    }
   ],
   "source": [
    "data_array=np.array(data)\n",
    "\n",
    "features = data_array[:, 1:]  # All columns except the first one\n",
    "target_variable = data_array[:, 0]  # First column\n",
    "\n",
    "print(features[1])\n",
    "print(target_variable.shape)\n"
   ]
  },
  {
   "cell_type": "code",
   "execution_count": 19,
   "id": "a649b611",
   "metadata": {},
   "outputs": [],
   "source": [
    "def compute_cost(x,y,w,b):\n",
    "    m=features.shape[0]\n",
    "    cost=0\n",
    "    for i in range(m):\n",
    "        f_wb=np.dot(w,x[i])+b\n",
    "        cost+=(f_wb-y[i])**2\n",
    "    total_cost=cost/(2*m)\n",
    "    return total_cost"
   ]
  },
  {
   "cell_type": "code",
   "execution_count": 5,
   "id": "2afc1136",
   "metadata": {},
   "outputs": [],
   "source": [
    "def compute_gradient(x, y, w, b):\n",
    "    m, n = x.shape  # Use x.shape instead of features.shape\n",
    "    dj_dw = np.zeros(n)\n",
    "    dj_db = 0\n",
    "    \n",
    "    for i in range(m):\n",
    "        f_err = np.dot(x[i],w) + b - y[i]\n",
    "        for j in range(n):\n",
    "            dj_dw[j] += f_err * x[i, j]\n",
    "        dj_db += f_err\n",
    "    \n",
    "    dj_dw /= m\n",
    "    dj_db /= m\n",
    "    \n",
    "    return dj_dw, dj_db\n"
   ]
  },
  {
   "cell_type": "code",
   "execution_count": 6,
   "id": "c0700875",
   "metadata": {},
   "outputs": [],
   "source": [
    "def gradient_descent(x,y,w_in,b_in,alpha,num_iter,cost_function,gradient_function):\n",
    "    w=copy.deepcopy(w_in)\n",
    "    b=b_in\n",
    "    j=[]\n",
    "    \n",
    "    for i in range(num_iter):      \n",
    "        dj_dw,dj_db=gradient_function(x,y,w,b)\n",
    "    \n",
    "        w=w-alpha*dj_dw\n",
    "        b=b-alpha*dj_db\n",
    "        \n",
    "        if i<100000:\n",
    "            j.append(cost(x,y,w,b))\n",
    "            \n",
    "        if i%math.ceil(num_iter/10)==0:\n",
    "            print(f\"iteration   {i}    cost    {j[-1]}\")\n",
    "            \n",
    "    return w,b,j    "
   ]
  },
  {
   "cell_type": "code",
   "execution_count": 7,
   "id": "023e560e",
   "metadata": {},
   "outputs": [
    {
     "ename": "ValueError",
     "evalue": "data type must provide an itemsize",
     "output_type": "error",
     "traceback": [
      "\u001b[1;31m---------------------------------------------------------------------------\u001b[0m",
      "\u001b[1;31mValueError\u001b[0m                                Traceback (most recent call last)",
      "Cell \u001b[1;32mIn[7], line 9\u001b[0m\n\u001b[0;32m      7\u001b[0m alpha \u001b[38;5;241m=\u001b[39m \u001b[38;5;241m5.0e-10\u001b[39m\n\u001b[0;32m      8\u001b[0m \u001b[38;5;66;03m# run gradient descent \u001b[39;00m\n\u001b[1;32m----> 9\u001b[0m w_final, b_final, J_hist \u001b[38;5;241m=\u001b[39m gradient_descent(features, target_variable, initial_w, initial_b,alpha, iterations,\n\u001b[0;32m     10\u001b[0m                                                     compute_cost, compute_gradient, \n\u001b[0;32m     11\u001b[0m                                                     )\n\u001b[0;32m     12\u001b[0m \u001b[38;5;28mprint\u001b[39m(\u001b[38;5;124mf\u001b[39m\u001b[38;5;124m\"\u001b[39m\u001b[38;5;124mb,w found by gradient descent: \u001b[39m\u001b[38;5;132;01m{\u001b[39;00mb_final\u001b[38;5;132;01m:\u001b[39;00m\u001b[38;5;124m0.2f\u001b[39m\u001b[38;5;132;01m}\u001b[39;00m\u001b[38;5;124m,\u001b[39m\u001b[38;5;132;01m{\u001b[39;00mw_final\u001b[38;5;132;01m}\u001b[39;00m\u001b[38;5;124m \u001b[39m\u001b[38;5;124m\"\u001b[39m)\n",
      "Cell \u001b[1;32mIn[6], line 7\u001b[0m, in \u001b[0;36mgradient_descent\u001b[1;34m(x, y, w_in, b_in, alpha, num_iter, cost_function, gradient_function)\u001b[0m\n\u001b[0;32m      4\u001b[0m j\u001b[38;5;241m=\u001b[39m[]\n\u001b[0;32m      6\u001b[0m \u001b[38;5;28;01mfor\u001b[39;00m i \u001b[38;5;129;01min\u001b[39;00m \u001b[38;5;28mrange\u001b[39m(num_iter):      \n\u001b[1;32m----> 7\u001b[0m     dj_dw,dj_db\u001b[38;5;241m=\u001b[39mgradient_function(x,y,w,b)\n\u001b[0;32m      9\u001b[0m     w\u001b[38;5;241m=\u001b[39mw\u001b[38;5;241m-\u001b[39malpha\u001b[38;5;241m*\u001b[39mdj_dw\n\u001b[0;32m     10\u001b[0m     b\u001b[38;5;241m=\u001b[39mb\u001b[38;5;241m-\u001b[39malpha\u001b[38;5;241m*\u001b[39mdj_db\n",
      "Cell \u001b[1;32mIn[5], line 7\u001b[0m, in \u001b[0;36mcompute_gradient\u001b[1;34m(x, y, w, b)\u001b[0m\n\u001b[0;32m      4\u001b[0m dj_db \u001b[38;5;241m=\u001b[39m \u001b[38;5;241m0\u001b[39m\n\u001b[0;32m      6\u001b[0m \u001b[38;5;28;01mfor\u001b[39;00m i \u001b[38;5;129;01min\u001b[39;00m \u001b[38;5;28mrange\u001b[39m(m):\n\u001b[1;32m----> 7\u001b[0m     f_err \u001b[38;5;241m=\u001b[39m np\u001b[38;5;241m.\u001b[39mdot(x[i],w) \u001b[38;5;241m+\u001b[39m b \u001b[38;5;241m-\u001b[39m y[i]\n\u001b[0;32m      8\u001b[0m     \u001b[38;5;28;01mfor\u001b[39;00m j \u001b[38;5;129;01min\u001b[39;00m \u001b[38;5;28mrange\u001b[39m(n):\n\u001b[0;32m      9\u001b[0m         dj_dw[j] \u001b[38;5;241m+\u001b[39m\u001b[38;5;241m=\u001b[39m f_err \u001b[38;5;241m*\u001b[39m x[i, j]\n",
      "File \u001b[1;32m<__array_function__ internals>:200\u001b[0m, in \u001b[0;36mdot\u001b[1;34m(*args, **kwargs)\u001b[0m\n",
      "\u001b[1;31mValueError\u001b[0m: data type must provide an itemsize"
     ]
    }
   ],
   "source": [
    "# initialize parameters\n",
    "m,n=features.shape\n",
    "initial_w = np.zeros(n)\n",
    "initial_b = 0.\n",
    "# some gradient descent settings\n",
    "iterations = 10000\n",
    "alpha = 5.0e-10\n",
    "# run gradient descent \n",
    "w_final, b_final, J_hist = gradient_descent(features, target_variable, initial_w, initial_b,alpha, iterations,\n",
    "                                                    compute_cost, compute_gradient, \n",
    "                                                    )\n",
    "print(f\"b,w found by gradient descent: {b_final:0.2f},{w_final} \")\n"
   ]
  },
  {
   "cell_type": "code",
   "execution_count": null,
   "id": "3a3135db",
   "metadata": {},
   "outputs": [],
   "source": []
  },
  {
   "cell_type": "code",
   "execution_count": null,
   "id": "16dd13ef",
   "metadata": {},
   "outputs": [],
   "source": []
  }
 ],
 "metadata": {
  "kernelspec": {
   "display_name": "Python 3 (ipykernel)",
   "language": "python",
   "name": "python3"
  },
  "language_info": {
   "codemirror_mode": {
    "name": "ipython",
    "version": 3
   },
   "file_extension": ".py",
   "mimetype": "text/x-python",
   "name": "python",
   "nbconvert_exporter": "python",
   "pygments_lexer": "ipython3",
   "version": "3.11.3"
  }
 },
 "nbformat": 4,
 "nbformat_minor": 5
}
